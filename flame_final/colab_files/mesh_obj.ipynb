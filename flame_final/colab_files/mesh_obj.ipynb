{
  "nbformat": 4,
  "nbformat_minor": 0,
  "metadata": {
    "colab": {
      "provenance": [],
      "gpuType": "T4"
    },
    "kernelspec": {
      "name": "python3",
      "display_name": "Python 3"
    },
    "language_info": {
      "name": "python"
    }
  },
  "cells": [
    {
      "cell_type": "code",
      "execution_count": null,
      "metadata": {
        "colab": {
          "base_uri": "https://localhost:8080/"
        },
        "id": "TVtOt2un8ETU",
        "outputId": "e28a32d7-c3c2-4adb-a1c2-c9078c1bf518"
      },
      "outputs": [
        {
          "output_type": "stream",
          "name": "stdout",
          "text": [
            "Archive:  tf_smpl.zip\n",
            "   creating: tf_smpl/\n",
            "  inflating: tf_smpl/batch_lbs.py    \n",
            "  inflating: tf_smpl/batch_smpl.py   \n"
          ]
        }
      ],
      "source": [
        "!unzip tf_smpl.zip"
      ]
    },
    {
      "cell_type": "code",
      "source": [
        "!pip install git+https://github.com/MPI-IS/mesh.git"
      ],
      "metadata": {
        "colab": {
          "base_uri": "https://localhost:8080/"
        },
        "id": "LcOcw0Gg8ISN",
        "outputId": "d981ea79-8339-4e74-afd9-8763ab16bf7c"
      },
      "execution_count": null,
      "outputs": [
        {
          "output_type": "stream",
          "name": "stdout",
          "text": [
            "Collecting git+https://github.com/MPI-IS/mesh.git\n",
            "  Cloning https://github.com/MPI-IS/mesh.git to /tmp/pip-req-build-xrx1rnns\n",
            "  Running command git clone --filter=blob:none --quiet https://github.com/MPI-IS/mesh.git /tmp/pip-req-build-xrx1rnns\n",
            "  Resolved https://github.com/MPI-IS/mesh.git to commit 49e70425cf373ec5269917012bda2944215c5ccd\n",
            "  Preparing metadata (setup.py) ... \u001b[?25l\u001b[?25hdone\n",
            "Requirement already satisfied: numpy>=1.8 in /usr/local/lib/python3.10/dist-packages (from psbody-mesh==0.4) (1.22.4)\n",
            "Requirement already satisfied: opencv-python in /usr/local/lib/python3.10/dist-packages (from psbody-mesh==0.4) (4.7.0.72)\n",
            "Requirement already satisfied: pillow in /usr/local/lib/python3.10/dist-packages (from psbody-mesh==0.4) (9.4.0)\n",
            "Requirement already satisfied: pyopengl in /usr/local/lib/python3.10/dist-packages (from psbody-mesh==0.4) (3.1.7)\n",
            "Requirement already satisfied: pyyaml in /usr/local/lib/python3.10/dist-packages (from psbody-mesh==0.4) (6.0.1)\n",
            "Requirement already satisfied: pyzmq in /usr/local/lib/python3.10/dist-packages (from psbody-mesh==0.4) (23.2.1)\n",
            "Requirement already satisfied: scipy in /usr/local/lib/python3.10/dist-packages (from psbody-mesh==0.4) (1.10.1)\n",
            "Building wheels for collected packages: psbody-mesh\n",
            "  Building wheel for psbody-mesh (setup.py) ... \u001b[?25l\u001b[?25hdone\n",
            "  Created wheel for psbody-mesh: filename=psbody_mesh-0.4-cp310-cp310-linux_x86_64.whl size=2318547 sha256=50bfe6983f90715cb2f9d78ef67c0da1e8e31aa9aaf632f6e4607baacaea93c6\n",
            "  Stored in directory: /tmp/pip-ephem-wheel-cache-1qki3vdw/wheels/50/e4/4f/3f1407f2c41d11f18944eba59d87157c4739efc0394e7cf300\n",
            "Successfully built psbody-mesh\n",
            "Installing collected packages: psbody-mesh\n",
            "Successfully installed psbody-mesh-0.4\n"
          ]
        }
      ]
    },
    {
      "cell_type": "code",
      "source": [
        "!pip install chumpy"
      ],
      "metadata": {
        "colab": {
          "base_uri": "https://localhost:8080/"
        },
        "id": "M1LH3Sg58JWS",
        "outputId": "6c264c9f-1efc-453b-b633-cc7f696a060a"
      },
      "execution_count": null,
      "outputs": [
        {
          "output_type": "stream",
          "name": "stdout",
          "text": [
            "Collecting chumpy\n",
            "  Using cached chumpy-0.70-py3-none-any.whl\n",
            "Requirement already satisfied: scipy>=0.13.0 in /usr/local/lib/python3.10/dist-packages (from chumpy) (1.10.1)\n",
            "Requirement already satisfied: six>=1.11.0 in /usr/local/lib/python3.10/dist-packages (from chumpy) (1.16.0)\n",
            "Requirement already satisfied: numpy<1.27.0,>=1.19.5 in /usr/local/lib/python3.10/dist-packages (from scipy>=0.13.0->chumpy) (1.22.4)\n",
            "Installing collected packages: chumpy\n",
            "Successfully installed chumpy-0.70\n"
          ]
        }
      ]
    },
    {
      "cell_type": "code",
      "source": [
        "import os\n",
        "import numpy as np\n",
        "from psbody.mesh import Mesh\n",
        "# import tensorflow as tf\n",
        "import tensorflow.compat.v1 as tf\n",
        "tf.disable_v2_behavior()\n",
        "from tf_smpl.batch_smpl import SMPL\n",
        "\n",
        "# for downloading lmk files\n",
        "from google.colab import files"
      ],
      "metadata": {
        "id": "fUkcVxcd8Kyf"
      },
      "execution_count": null,
      "outputs": []
    },
    {
      "cell_type": "code",
      "source": [
        "out_path = \"./output\""
      ],
      "metadata": {
        "id": "14aYfK09Pdme"
      },
      "execution_count": null,
      "outputs": []
    },
    {
      "cell_type": "code",
      "source": [
        "download = False\n",
        "np_verts_path = \"/content/sad_small_np_verts_2023.npy\"\n",
        "basename = os.path.splitext(os.path.basename(np_verts_path))[0][:-6]\n",
        "if \"generic_model\" in basename:\n",
        "    model_fname = \"./generic_model.pkl\"\n",
        "elif \"flame2023_no_jaw\" in basename:\n",
        "    model_fname = \"./flame2023_no_jaw.pkl\"\n",
        "else:\n",
        "    model_fname = \"./flame2023.pkl\"\n",
        "smpl = SMPL(model_fname)"
      ],
      "metadata": {
        "id": "3I0Dhwsp8No_"
      },
      "execution_count": null,
      "outputs": []
    },
    {
      "cell_type": "code",
      "source": [
        "np_verts = np.load(np_verts_path)\n",
        "mesh_filepath = os.path.join(out_path, basename + '.obj')\n",
        "result_mesh = Mesh(np_verts, smpl.f)\n",
        "result_mesh.set_vertex_colors('white')\n",
        "result_mesh.write_obj(mesh_filepath)\n",
        "if download:\n",
        "    files.download(mesh_filepath)"
      ],
      "metadata": {
        "id": "zy0OoS928h8B"
      },
      "execution_count": null,
      "outputs": []
    },
    {
      "cell_type": "code",
      "source": [],
      "metadata": {
        "id": "GPfHflMLzQfE"
      },
      "execution_count": null,
      "outputs": []
    }
  ]
}